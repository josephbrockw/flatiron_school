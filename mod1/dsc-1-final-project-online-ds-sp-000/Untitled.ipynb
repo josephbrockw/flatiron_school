{
 "cells": [
  {
   "cell_type": "code",
   "execution_count": 3,
   "metadata": {},
   "outputs": [],
   "source": [
    "from lib.google_search_results import GoogleSearchResults\n",
    "\n",
    "params = {\n",
    "    \"q\" : \"Orthodontist\",\n",
    "    \"location\" : \"Kansas City, MO, United States\",\n",
    "    \"serp_api_key\": \"Your Private Key\"\n",
    "}\n",
    "\n",
    "query = GoogleSearchResults(params)\n",
    "dictionary_results = query.get_dictionary()\n"
   ]
  },
  {
   "cell_type": "code",
   "execution_count": 4,
   "metadata": {},
   "outputs": [
    {
     "name": "stdout",
     "output_type": "stream",
     "text": [
      "{'error': 'You need a valid account to continue using our API. Sign up on SerpApi.com website.'}\n"
     ]
    }
   ],
   "source": [
    "print(dictionary_results)"
   ]
  },
  {
   "cell_type": "code",
   "execution_count": null,
   "metadata": {
    "collapsed": true
   },
   "outputs": [],
   "source": []
  }
 ],
 "metadata": {
  "kernelspec": {
   "display_name": "Python 3",
   "language": "python",
   "name": "python3"
  },
  "language_info": {
   "codemirror_mode": {
    "name": "ipython",
    "version": 3
   },
   "file_extension": ".py",
   "mimetype": "text/x-python",
   "name": "python",
   "nbconvert_exporter": "python",
   "pygments_lexer": "ipython3",
   "version": "3.6.3"
  }
 },
 "nbformat": 4,
 "nbformat_minor": 2
}
