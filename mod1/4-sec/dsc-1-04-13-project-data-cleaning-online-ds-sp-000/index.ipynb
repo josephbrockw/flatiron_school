{
 "cells": [
  {
   "cell_type": "markdown",
   "metadata": {},
   "source": [
    "# Project - Data Cleaning\n",
    "\n",
    "## Introduction\n",
    "In this lab, we'll make use of everything we've learned about pandas, data cleaning, and Exploratory Data Analysis. In order to complete this lab, you'll have to make import, clean, combine, reshape, and visualize data to answer questions provided, as well as your own questions!\n",
    "\n",
    "## Objectives\n",
    "You will be able to:\n",
    "* Show mastery of the content covered in this section\n",
    "\n",
    "## The Dataset\n",
    "In this lab, we'll work with the comprehensive [Super Heroes Dataset](https://www.kaggle.com/claudiodavi/superhero-set/data), which can be found on Kaggle!\n",
    "\n",
    "## Goals\n",
    "* Use all available pandas knowledge to clean the dataset and deal with null values\n",
    "* Use Queries and aggregations to group the data into interesting subsets as needed\n",
    "* Use descriptive statistics and data visualization to find answers to questions we may have about the data. \n",
    "\n",
    "## Getting Started\n",
    "\n",
    "In the cell below:\n",
    "\n",
    "* Import and alias pandas as `pd`\n",
    "* Import and alias numpy as `np`\n",
    "* Import and alias seaborn as `sns`\n",
    "* Import and alias matplotlib.pyplot as `plt`\n",
    "* Set matplotlib visualizations to display inline in the notebook"
   ]
  },
  {
   "cell_type": "code",
   "execution_count": 1,
   "metadata": {},
   "outputs": [],
   "source": [
    "import pandas as pd\n",
    "import numpy as np\n",
    "import seaborn as sns\n",
    "import matplotlib.pyplot as plt\n",
    "%matplotlib inline"
   ]
  },
  {
   "cell_type": "markdown",
   "metadata": {},
   "source": [
    "For this lab, our dataset is split among two different sources--`heroes_information.csv` and `super_hero_powers.csv`.\n",
    "\n",
    "Use pandas to read in each file and store them in DataFrames in the appropriate variables below. Then, display the head of each to ensure that everything loaded correctly.  "
   ]
  },
  {
   "cell_type": "code",
   "execution_count": 2,
   "metadata": {},
   "outputs": [
    {
     "data": {
      "text/html": [
       "<div>\n",
       "<style scoped>\n",
       "    .dataframe tbody tr th:only-of-type {\n",
       "        vertical-align: middle;\n",
       "    }\n",
       "\n",
       "    .dataframe tbody tr th {\n",
       "        vertical-align: top;\n",
       "    }\n",
       "\n",
       "    .dataframe thead th {\n",
       "        text-align: right;\n",
       "    }\n",
       "</style>\n",
       "<table border=\"1\" class=\"dataframe\">\n",
       "  <thead>\n",
       "    <tr style=\"text-align: right;\">\n",
       "      <th></th>\n",
       "      <th>Unnamed: 0</th>\n",
       "      <th>name</th>\n",
       "      <th>Gender</th>\n",
       "      <th>Eye color</th>\n",
       "      <th>Race</th>\n",
       "      <th>Hair color</th>\n",
       "      <th>Height</th>\n",
       "      <th>Publisher</th>\n",
       "      <th>Skin color</th>\n",
       "      <th>Alignment</th>\n",
       "      <th>Weight</th>\n",
       "    </tr>\n",
       "  </thead>\n",
       "  <tbody>\n",
       "    <tr>\n",
       "      <th>0</th>\n",
       "      <td>0</td>\n",
       "      <td>A-Bomb</td>\n",
       "      <td>Male</td>\n",
       "      <td>yellow</td>\n",
       "      <td>Human</td>\n",
       "      <td>No Hair</td>\n",
       "      <td>203.0</td>\n",
       "      <td>Marvel Comics</td>\n",
       "      <td>-</td>\n",
       "      <td>good</td>\n",
       "      <td>441.0</td>\n",
       "    </tr>\n",
       "    <tr>\n",
       "      <th>1</th>\n",
       "      <td>1</td>\n",
       "      <td>Abe Sapien</td>\n",
       "      <td>Male</td>\n",
       "      <td>blue</td>\n",
       "      <td>Icthyo Sapien</td>\n",
       "      <td>No Hair</td>\n",
       "      <td>191.0</td>\n",
       "      <td>Dark Horse Comics</td>\n",
       "      <td>blue</td>\n",
       "      <td>good</td>\n",
       "      <td>65.0</td>\n",
       "    </tr>\n",
       "    <tr>\n",
       "      <th>2</th>\n",
       "      <td>2</td>\n",
       "      <td>Abin Sur</td>\n",
       "      <td>Male</td>\n",
       "      <td>blue</td>\n",
       "      <td>Ungaran</td>\n",
       "      <td>No Hair</td>\n",
       "      <td>185.0</td>\n",
       "      <td>DC Comics</td>\n",
       "      <td>red</td>\n",
       "      <td>good</td>\n",
       "      <td>90.0</td>\n",
       "    </tr>\n",
       "    <tr>\n",
       "      <th>3</th>\n",
       "      <td>3</td>\n",
       "      <td>Abomination</td>\n",
       "      <td>Male</td>\n",
       "      <td>green</td>\n",
       "      <td>Human / Radiation</td>\n",
       "      <td>No Hair</td>\n",
       "      <td>203.0</td>\n",
       "      <td>Marvel Comics</td>\n",
       "      <td>-</td>\n",
       "      <td>bad</td>\n",
       "      <td>441.0</td>\n",
       "    </tr>\n",
       "    <tr>\n",
       "      <th>4</th>\n",
       "      <td>4</td>\n",
       "      <td>Abraxas</td>\n",
       "      <td>Male</td>\n",
       "      <td>blue</td>\n",
       "      <td>Cosmic Entity</td>\n",
       "      <td>Black</td>\n",
       "      <td>-99.0</td>\n",
       "      <td>Marvel Comics</td>\n",
       "      <td>-</td>\n",
       "      <td>bad</td>\n",
       "      <td>-99.0</td>\n",
       "    </tr>\n",
       "  </tbody>\n",
       "</table>\n",
       "</div>"
      ],
      "text/plain": [
       "   Unnamed: 0         name Gender Eye color               Race Hair color  \\\n",
       "0           0       A-Bomb   Male    yellow              Human    No Hair   \n",
       "1           1   Abe Sapien   Male      blue      Icthyo Sapien    No Hair   \n",
       "2           2     Abin Sur   Male      blue            Ungaran    No Hair   \n",
       "3           3  Abomination   Male     green  Human / Radiation    No Hair   \n",
       "4           4      Abraxas   Male      blue      Cosmic Entity      Black   \n",
       "\n",
       "   Height          Publisher Skin color Alignment  Weight  \n",
       "0   203.0      Marvel Comics          -      good   441.0  \n",
       "1   191.0  Dark Horse Comics       blue      good    65.0  \n",
       "2   185.0          DC Comics        red      good    90.0  \n",
       "3   203.0      Marvel Comics          -       bad   441.0  \n",
       "4   -99.0      Marvel Comics          -       bad   -99.0  "
      ]
     },
     "execution_count": 2,
     "metadata": {},
     "output_type": "execute_result"
    }
   ],
   "source": [
    "heroes_df = pd.read_csv('heroes_information.csv')\n",
    "powers_df = pd.read_csv('super_hero_powers.csv')\n",
    "heroes_df.head()"
   ]
  },
  {
   "cell_type": "markdown",
   "metadata": {},
   "source": [
    "It looks as if the heroes information dataset contained an index column.  We did not specify that this dataset contained an index column, because we hadn't seen it yet. Pandas does not know how to tell apart an index column from any other data, so it stored it with the column name `Unnamed: 0`.  \n",
    "\n",
    "Our DataFrame provided row indices by default, so this column is not needed.  Drop it from the DataFrame in place in the cell below, and then display the head of `heroes_df` to ensure that it worked properly. "
   ]
  },
  {
   "cell_type": "code",
   "execution_count": 3,
   "metadata": {},
   "outputs": [
    {
     "data": {
      "text/html": [
       "<div>\n",
       "<style scoped>\n",
       "    .dataframe tbody tr th:only-of-type {\n",
       "        vertical-align: middle;\n",
       "    }\n",
       "\n",
       "    .dataframe tbody tr th {\n",
       "        vertical-align: top;\n",
       "    }\n",
       "\n",
       "    .dataframe thead th {\n",
       "        text-align: right;\n",
       "    }\n",
       "</style>\n",
       "<table border=\"1\" class=\"dataframe\">\n",
       "  <thead>\n",
       "    <tr style=\"text-align: right;\">\n",
       "      <th></th>\n",
       "      <th>name</th>\n",
       "      <th>Gender</th>\n",
       "      <th>Eye color</th>\n",
       "      <th>Race</th>\n",
       "      <th>Hair color</th>\n",
       "      <th>Height</th>\n",
       "      <th>Publisher</th>\n",
       "      <th>Skin color</th>\n",
       "      <th>Alignment</th>\n",
       "      <th>Weight</th>\n",
       "    </tr>\n",
       "  </thead>\n",
       "  <tbody>\n",
       "    <tr>\n",
       "      <th>0</th>\n",
       "      <td>A-Bomb</td>\n",
       "      <td>Male</td>\n",
       "      <td>yellow</td>\n",
       "      <td>Human</td>\n",
       "      <td>No Hair</td>\n",
       "      <td>203.0</td>\n",
       "      <td>Marvel Comics</td>\n",
       "      <td>-</td>\n",
       "      <td>good</td>\n",
       "      <td>441.0</td>\n",
       "    </tr>\n",
       "    <tr>\n",
       "      <th>1</th>\n",
       "      <td>Abe Sapien</td>\n",
       "      <td>Male</td>\n",
       "      <td>blue</td>\n",
       "      <td>Icthyo Sapien</td>\n",
       "      <td>No Hair</td>\n",
       "      <td>191.0</td>\n",
       "      <td>Dark Horse Comics</td>\n",
       "      <td>blue</td>\n",
       "      <td>good</td>\n",
       "      <td>65.0</td>\n",
       "    </tr>\n",
       "    <tr>\n",
       "      <th>2</th>\n",
       "      <td>Abin Sur</td>\n",
       "      <td>Male</td>\n",
       "      <td>blue</td>\n",
       "      <td>Ungaran</td>\n",
       "      <td>No Hair</td>\n",
       "      <td>185.0</td>\n",
       "      <td>DC Comics</td>\n",
       "      <td>red</td>\n",
       "      <td>good</td>\n",
       "      <td>90.0</td>\n",
       "    </tr>\n",
       "    <tr>\n",
       "      <th>3</th>\n",
       "      <td>Abomination</td>\n",
       "      <td>Male</td>\n",
       "      <td>green</td>\n",
       "      <td>Human / Radiation</td>\n",
       "      <td>No Hair</td>\n",
       "      <td>203.0</td>\n",
       "      <td>Marvel Comics</td>\n",
       "      <td>-</td>\n",
       "      <td>bad</td>\n",
       "      <td>441.0</td>\n",
       "    </tr>\n",
       "    <tr>\n",
       "      <th>4</th>\n",
       "      <td>Abraxas</td>\n",
       "      <td>Male</td>\n",
       "      <td>blue</td>\n",
       "      <td>Cosmic Entity</td>\n",
       "      <td>Black</td>\n",
       "      <td>-99.0</td>\n",
       "      <td>Marvel Comics</td>\n",
       "      <td>-</td>\n",
       "      <td>bad</td>\n",
       "      <td>-99.0</td>\n",
       "    </tr>\n",
       "  </tbody>\n",
       "</table>\n",
       "</div>"
      ],
      "text/plain": [
       "          name Gender Eye color               Race Hair color  Height  \\\n",
       "0       A-Bomb   Male    yellow              Human    No Hair   203.0   \n",
       "1   Abe Sapien   Male      blue      Icthyo Sapien    No Hair   191.0   \n",
       "2     Abin Sur   Male      blue            Ungaran    No Hair   185.0   \n",
       "3  Abomination   Male     green  Human / Radiation    No Hair   203.0   \n",
       "4      Abraxas   Male      blue      Cosmic Entity      Black   -99.0   \n",
       "\n",
       "           Publisher Skin color Alignment  Weight  \n",
       "0      Marvel Comics          -      good   441.0  \n",
       "1  Dark Horse Comics       blue      good    65.0  \n",
       "2          DC Comics        red      good    90.0  \n",
       "3      Marvel Comics          -       bad   441.0  \n",
       "4      Marvel Comics          -       bad   -99.0  "
      ]
     },
     "execution_count": 3,
     "metadata": {},
     "output_type": "execute_result"
    }
   ],
   "source": [
    "heroes_df.drop(columns='Unnamed: 0', inplace=True)\n",
    "heroes_df.head()"
   ]
  },
  {
   "cell_type": "markdown",
   "metadata": {},
   "source": [
    "## Familiarize Yourself With the Dataset\n",
    "\n",
    "The first step in our Exploratory Data Analysis will be to get familiar with the data.  This step includes:\n",
    "\n",
    "* Understanding the dimensionality of your dataset\n",
    "* Investigating what type of data it contains, and the data types used to store it\n",
    "* Discovering how missing values are encoded, and how many there are\n",
    "* Getting a feel for what information it does and doesnt contain\n",
    "\n",
    "In the cell below, get the descriptive statistics of each DataFrame.  "
   ]
  },
  {
   "cell_type": "code",
   "execution_count": 4,
   "metadata": {},
   "outputs": [
    {
     "name": "stdout",
     "output_type": "stream",
     "text": [
      "<class 'pandas.core.frame.DataFrame'>\n",
      "RangeIndex: 734 entries, 0 to 733\n",
      "Data columns (total 10 columns):\n",
      "name          734 non-null object\n",
      "Gender        734 non-null object\n",
      "Eye color     734 non-null object\n",
      "Race          734 non-null object\n",
      "Hair color    734 non-null object\n",
      "Height        734 non-null float64\n",
      "Publisher     719 non-null object\n",
      "Skin color    734 non-null object\n",
      "Alignment     734 non-null object\n",
      "Weight        732 non-null float64\n",
      "dtypes: float64(2), object(8)\n",
      "memory usage: 57.4+ KB\n"
     ]
    }
   ],
   "source": [
    "heroes_df.info()"
   ]
  },
  {
   "cell_type": "markdown",
   "metadata": {},
   "source": [
    "## Dealing with Null Values\n",
    "\n",
    "Starting in the cell below, detect and deal with any null values in either data frame.  Then, explain your methodology for detecting and dealing with outliers in the markdown section below.  Be sure to explain your strategy for dealing with null values in numeric columns, as well as your strategy for dealing with null values in non-numeric columns.  \n",
    "\n",
    "Note that if you need to add more cells to write code in, you can do this by:\n",
    "\n",
    "**1.** Highlighting a cell and then pressing `ESC` to enter command mode.  \n",
    "**2.** Press `A` to add a cell above the highlighted cell, or `B` to add a cell below the highlighted cell. \n",
    "\n",
    "Describe your strategy below this line:\n",
    "____________________________________________________________________________________________________________________________\n",
    "\n",
    "\n"
   ]
  },
  {
   "cell_type": "code",
   "execution_count": 5,
   "metadata": {},
   "outputs": [
    {
     "data": {
      "text/plain": [
       "name           0\n",
       "Gender         0\n",
       "Eye color      0\n",
       "Race           0\n",
       "Hair color     0\n",
       "Height         0\n",
       "Publisher     15\n",
       "Skin color     0\n",
       "Alignment      0\n",
       "Weight         2\n",
       "dtype: int64"
      ]
     },
     "execution_count": 5,
     "metadata": {},
     "output_type": "execute_result"
    }
   ],
   "source": [
    "heroes_df.isna().sum()"
   ]
  },
  {
   "cell_type": "code",
   "execution_count": 6,
   "metadata": {},
   "outputs": [
    {
     "data": {
      "text/plain": [
       "name          0\n",
       "Gender        0\n",
       "Eye color     0\n",
       "Race          0\n",
       "Hair color    0\n",
       "Height        0\n",
       "Publisher     0\n",
       "Skin color    0\n",
       "Alignment     0\n",
       "Weight        0\n",
       "dtype: int64"
      ]
     },
     "execution_count": 6,
     "metadata": {},
     "output_type": "execute_result"
    }
   ],
   "source": [
    "heroes_df.Weight.fillna(heroes_df.Weight.median(), inplace=True)\n",
    "heroes_df.dropna(inplace=True)\n",
    "\n",
    "heroes_df.isna().sum()"
   ]
  },
  {
   "cell_type": "code",
   "execution_count": 7,
   "metadata": {},
   "outputs": [],
   "source": [
    "# For numeric values with a low number of NaN's, I replaced the NaN's with the median number\n",
    "# For categorical columns with low number of NaN's, I dropped the rows from the dataset"
   ]
  },
  {
   "cell_type": "markdown",
   "metadata": {},
   "source": [
    "## Joining, Grouping, and Aggregating\n",
    "\n",
    "In the cell below, join the two DataFrames.  Think about which sort of join you should use, as well as which columns you should join on.  Rename columns and manipulate as needed.  \n",
    "\n",
    "**_HINT:_** If the join throws an error message, consider settin the the column you want to join on as the index for each DataFrame.  "
   ]
  },
  {
   "cell_type": "code",
   "execution_count": 8,
   "metadata": {},
   "outputs": [
    {
     "data": {
      "text/plain": [
       "hero_names               0\n",
       "Agility                  0\n",
       "Accelerated Healing      0\n",
       "Lantern Power Ring       0\n",
       "Dimensional Awareness    0\n",
       "Cold Resistance          0\n",
       "Durability               0\n",
       "Stealth                  0\n",
       "Energy Absorption        0\n",
       "Flight                   0\n",
       "Danger Sense             0\n",
       "Underwater breathing     0\n",
       "Marksmanship             0\n",
       "Weapons Master           0\n",
       "Power Augmentation       0\n",
       "Animal Attributes        0\n",
       "Longevity                0\n",
       "Intelligence             0\n",
       "Super Strength           0\n",
       "Cryokinesis              0\n",
       "Telepathy                0\n",
       "Energy Armor             0\n",
       "Energy Blasts            0\n",
       "Duplication              0\n",
       "Size Changing            0\n",
       "Density Control          0\n",
       "Stamina                  0\n",
       "Astral Travel            0\n",
       "Audio Control            0\n",
       "Dexterity                0\n",
       "                        ..\n",
       "Intuitive aptitude       0\n",
       "Vision - Microscopic     0\n",
       "Melting                  0\n",
       "Wind Control             0\n",
       "Super Breath             0\n",
       "Wallcrawling             0\n",
       "Vision - Night           0\n",
       "Vision - Infrared        0\n",
       "Grim Reaping             0\n",
       "Matter Absorption        0\n",
       "The Force                0\n",
       "Resurrection             0\n",
       "Terrakinesis             0\n",
       "Vision - Heat            0\n",
       "Vitakinesis              0\n",
       "Radar Sense              0\n",
       "Qwardian Power Ring      0\n",
       "Weather Control          0\n",
       "Vision - X-Ray           0\n",
       "Vision - Thermal         0\n",
       "Web Creation             0\n",
       "Reality Warping          0\n",
       "Odin Force               0\n",
       "Symbiote Costume         0\n",
       "Speed Force              0\n",
       "Phoenix Force            0\n",
       "Molecular Dissipation    0\n",
       "Vision - Cryo            0\n",
       "Omnipresent              0\n",
       "Omniscient               0\n",
       "Length: 168, dtype: int64"
      ]
     },
     "execution_count": 8,
     "metadata": {},
     "output_type": "execute_result"
    }
   ],
   "source": [
    "powers_df.isna().sum()"
   ]
  },
  {
   "cell_type": "code",
   "execution_count": 11,
   "metadata": {},
   "outputs": [],
   "source": [
    "joined_df = heroes_df.join(powers_df, rsuffix='_p')"
   ]
  },
  {
   "cell_type": "code",
   "execution_count": 12,
   "metadata": {},
   "outputs": [
    {
     "data": {
      "text/html": [
       "<div>\n",
       "<style scoped>\n",
       "    .dataframe tbody tr th:only-of-type {\n",
       "        vertical-align: middle;\n",
       "    }\n",
       "\n",
       "    .dataframe tbody tr th {\n",
       "        vertical-align: top;\n",
       "    }\n",
       "\n",
       "    .dataframe thead th {\n",
       "        text-align: right;\n",
       "    }\n",
       "</style>\n",
       "<table border=\"1\" class=\"dataframe\">\n",
       "  <thead>\n",
       "    <tr style=\"text-align: right;\">\n",
       "      <th></th>\n",
       "      <th>name</th>\n",
       "      <th>Gender</th>\n",
       "      <th>Eye color</th>\n",
       "      <th>Race</th>\n",
       "      <th>Hair color</th>\n",
       "      <th>Height</th>\n",
       "      <th>Publisher</th>\n",
       "      <th>Skin color</th>\n",
       "      <th>Alignment</th>\n",
       "      <th>Weight</th>\n",
       "      <th>...</th>\n",
       "      <th>Web Creation</th>\n",
       "      <th>Reality Warping</th>\n",
       "      <th>Odin Force</th>\n",
       "      <th>Symbiote Costume</th>\n",
       "      <th>Speed Force</th>\n",
       "      <th>Phoenix Force</th>\n",
       "      <th>Molecular Dissipation</th>\n",
       "      <th>Vision - Cryo</th>\n",
       "      <th>Omnipresent</th>\n",
       "      <th>Omniscient</th>\n",
       "    </tr>\n",
       "  </thead>\n",
       "  <tbody>\n",
       "    <tr>\n",
       "      <th>0</th>\n",
       "      <td>A-Bomb</td>\n",
       "      <td>Male</td>\n",
       "      <td>yellow</td>\n",
       "      <td>Human</td>\n",
       "      <td>No Hair</td>\n",
       "      <td>203.0</td>\n",
       "      <td>Marvel Comics</td>\n",
       "      <td>-</td>\n",
       "      <td>good</td>\n",
       "      <td>441.0</td>\n",
       "      <td>...</td>\n",
       "      <td>False</td>\n",
       "      <td>False</td>\n",
       "      <td>False</td>\n",
       "      <td>False</td>\n",
       "      <td>False</td>\n",
       "      <td>False</td>\n",
       "      <td>False</td>\n",
       "      <td>False</td>\n",
       "      <td>False</td>\n",
       "      <td>False</td>\n",
       "    </tr>\n",
       "    <tr>\n",
       "      <th>1</th>\n",
       "      <td>Abe Sapien</td>\n",
       "      <td>Male</td>\n",
       "      <td>blue</td>\n",
       "      <td>Icthyo Sapien</td>\n",
       "      <td>No Hair</td>\n",
       "      <td>191.0</td>\n",
       "      <td>Dark Horse Comics</td>\n",
       "      <td>blue</td>\n",
       "      <td>good</td>\n",
       "      <td>65.0</td>\n",
       "      <td>...</td>\n",
       "      <td>False</td>\n",
       "      <td>False</td>\n",
       "      <td>False</td>\n",
       "      <td>False</td>\n",
       "      <td>False</td>\n",
       "      <td>False</td>\n",
       "      <td>False</td>\n",
       "      <td>False</td>\n",
       "      <td>False</td>\n",
       "      <td>False</td>\n",
       "    </tr>\n",
       "    <tr>\n",
       "      <th>2</th>\n",
       "      <td>Abin Sur</td>\n",
       "      <td>Male</td>\n",
       "      <td>blue</td>\n",
       "      <td>Ungaran</td>\n",
       "      <td>No Hair</td>\n",
       "      <td>185.0</td>\n",
       "      <td>DC Comics</td>\n",
       "      <td>red</td>\n",
       "      <td>good</td>\n",
       "      <td>90.0</td>\n",
       "      <td>...</td>\n",
       "      <td>False</td>\n",
       "      <td>False</td>\n",
       "      <td>False</td>\n",
       "      <td>False</td>\n",
       "      <td>False</td>\n",
       "      <td>False</td>\n",
       "      <td>False</td>\n",
       "      <td>False</td>\n",
       "      <td>False</td>\n",
       "      <td>False</td>\n",
       "    </tr>\n",
       "    <tr>\n",
       "      <th>3</th>\n",
       "      <td>Abomination</td>\n",
       "      <td>Male</td>\n",
       "      <td>green</td>\n",
       "      <td>Human / Radiation</td>\n",
       "      <td>No Hair</td>\n",
       "      <td>203.0</td>\n",
       "      <td>Marvel Comics</td>\n",
       "      <td>-</td>\n",
       "      <td>bad</td>\n",
       "      <td>441.0</td>\n",
       "      <td>...</td>\n",
       "      <td>False</td>\n",
       "      <td>False</td>\n",
       "      <td>False</td>\n",
       "      <td>False</td>\n",
       "      <td>False</td>\n",
       "      <td>False</td>\n",
       "      <td>False</td>\n",
       "      <td>False</td>\n",
       "      <td>False</td>\n",
       "      <td>False</td>\n",
       "    </tr>\n",
       "    <tr>\n",
       "      <th>4</th>\n",
       "      <td>Abraxas</td>\n",
       "      <td>Male</td>\n",
       "      <td>blue</td>\n",
       "      <td>Cosmic Entity</td>\n",
       "      <td>Black</td>\n",
       "      <td>-99.0</td>\n",
       "      <td>Marvel Comics</td>\n",
       "      <td>-</td>\n",
       "      <td>bad</td>\n",
       "      <td>-99.0</td>\n",
       "      <td>...</td>\n",
       "      <td>False</td>\n",
       "      <td>False</td>\n",
       "      <td>False</td>\n",
       "      <td>False</td>\n",
       "      <td>False</td>\n",
       "      <td>False</td>\n",
       "      <td>False</td>\n",
       "      <td>False</td>\n",
       "      <td>False</td>\n",
       "      <td>False</td>\n",
       "    </tr>\n",
       "  </tbody>\n",
       "</table>\n",
       "<p>5 rows × 178 columns</p>\n",
       "</div>"
      ],
      "text/plain": [
       "          name Gender Eye color               Race Hair color  Height  \\\n",
       "0       A-Bomb   Male    yellow              Human    No Hair   203.0   \n",
       "1   Abe Sapien   Male      blue      Icthyo Sapien    No Hair   191.0   \n",
       "2     Abin Sur   Male      blue            Ungaran    No Hair   185.0   \n",
       "3  Abomination   Male     green  Human / Radiation    No Hair   203.0   \n",
       "4      Abraxas   Male      blue      Cosmic Entity      Black   -99.0   \n",
       "\n",
       "           Publisher Skin color Alignment  Weight    ...     Web Creation  \\\n",
       "0      Marvel Comics          -      good   441.0    ...            False   \n",
       "1  Dark Horse Comics       blue      good    65.0    ...            False   \n",
       "2          DC Comics        red      good    90.0    ...            False   \n",
       "3      Marvel Comics          -       bad   441.0    ...            False   \n",
       "4      Marvel Comics          -       bad   -99.0    ...            False   \n",
       "\n",
       "  Reality Warping Odin Force Symbiote Costume Speed Force Phoenix Force  \\\n",
       "0           False      False            False       False         False   \n",
       "1           False      False            False       False         False   \n",
       "2           False      False            False       False         False   \n",
       "3           False      False            False       False         False   \n",
       "4           False      False            False       False         False   \n",
       "\n",
       "  Molecular Dissipation Vision - Cryo Omnipresent Omniscient  \n",
       "0                 False         False       False      False  \n",
       "1                 False         False       False      False  \n",
       "2                 False         False       False      False  \n",
       "3                 False         False       False      False  \n",
       "4                 False         False       False      False  \n",
       "\n",
       "[5 rows x 178 columns]"
      ]
     },
     "execution_count": 12,
     "metadata": {},
     "output_type": "execute_result"
    }
   ],
   "source": [
    "joined_df.head()"
   ]
  },
  {
   "cell_type": "markdown",
   "metadata": {},
   "source": [
    "In the cell below, subset male and female heroes into different dataframes.  Create a scatterplot of the height and weight of each hero, with weight as the y-axis.  Plot both the male and female heroes subset into each dataframe, and make the color for each point in the scatterplot correspond to the gender of the superhero."
   ]
  },
  {
   "cell_type": "code",
   "execution_count": 14,
   "metadata": {},
   "outputs": [
    {
     "data": {
      "image/png": "[encoded data removed]",
      "text/plain": [
       "<Figure size 432x288 with 1 Axes>"
      ]
     },
     "metadata": {
      "needs_background": "light"
     },
     "output_type": "display_data"
    }
   ],
   "source": [
    "male_df = joined_df.loc[joined_df.Gender == 'Male']\n",
    "female_df = joined_df.loc[joined_df.Gender == 'Female']\n",
    "\n",
    "fig = plt.figure()\n",
    "ax = fig.add_subplot(111)\n",
    "ax.scatter(male_df.Height, male_df.Weight, color='blue', marker='o')\n",
    "ax.scatter(female_df.Height, female_df.Weight, color='pink', marker='o')\n",
    "plt.xlabel('Height')\n",
    "plt.ylabel('Weight')\n",
    "plt.title('Super Heroe Size by Gender')\n",
    "plt.show()"
   ]
  },
  {
   "cell_type": "markdown",
   "metadata": {},
   "source": [
    "## Some Initial Investigation\n",
    "\n",
    "Next, slice the DataFrame as needed and visualize the distribution of heights and weights by gender.  You should have 4 total plots.  \n",
    "\n",
    "In the cell below:\n",
    "\n",
    "* Slice the DataFrame into separate DataFrames by gender\n",
    "* Complete the `show_distplot` function.  This helper function should take in a DataFrame, a string containing the gender we want to visualize, and and the column name we want to visualize by gender. The function should display a distplot visualization from seaborn of the column/gender combination.  \n",
    "\n",
    "Hint: Don't forget to check the [seaborn documentation for distplot](https://seaborn.pydata.org/generated/seaborn.distplot.html) if you have questions about how to use it correctly! "
   ]
  },
  {
   "cell_type": "code",
   "execution_count": 22,
   "metadata": {},
   "outputs": [],
   "source": [
    "male_heroes_df = joined_df.loc[joined_df.Gender == 'Male']\n",
    "female_heroes_df = joined_df.loc[joined_df.Gender == 'Female']\n",
    "\n",
    "def show_distplot(dataframe, gender, column_name):\n",
    "    sns.distplot(dataframe[column_name], axlabel=gender)"
   ]
  },
  {
   "cell_type": "code",
   "execution_count": 23,
   "metadata": {},
   "outputs": [
    {
     "name": "stderr",
     "output_type": "stream",
     "text": [
      "/Users/joe/anaconda3/envs/learn-env/lib/python3.6/site-packages/scipy/stats/stats.py:1713: FutureWarning: Using a non-tuple sequence for multidimensional indexing is deprecated; use `arr[tuple(seq)]` instead of `arr[seq]`. In the future this will be interpreted as an array index, `arr[np.array(seq)]`, which will result either in an error or a different result.\n",
      "  return np.add.reduce(sorted[indexer] * weights, axis=axis) / sumval\n"
     ]
    },
    {
     "data": {
      "image/png": "[encoded data removed]",
      "text/plain": [
       "<Figure size 432x288 with 1 Axes>"
      ]
     },
     "metadata": {
      "needs_background": "light"
     },
     "output_type": "display_data"
    }
   ],
   "source": [
    "# Male Height\n",
    "show_distplot(male_heroes_df, 'Male', 'Height')"
   ]
  },
  {
   "cell_type": "code",
   "execution_count": 24,
   "metadata": {},
   "outputs": [
    {
     "name": "stderr",
     "output_type": "stream",
     "text": [
      "/Users/joe/anaconda3/envs/learn-env/lib/python3.6/site-packages/scipy/stats/stats.py:1713: FutureWarning: Using a non-tuple sequence for multidimensional indexing is deprecated; use `arr[tuple(seq)]` instead of `arr[seq]`. In the future this will be interpreted as an array index, `arr[np.array(seq)]`, which will result either in an error or a different result.\n",
      "  return np.add.reduce(sorted[indexer] * weights, axis=axis) / sumval\n"
     ]
    },
    {
     "data": {
      "image/png": "[encoded data removed]",
      "text/plain": [
       "<Figure size 432x288 with 1 Axes>"
      ]
     },
     "metadata": {
      "needs_background": "light"
     },
     "output_type": "display_data"
    }
   ],
   "source": [
    "# Male Weight\n",
    "show_distplot(male_heroes_df, 'Male', 'Weight')"
   ]
  },
  {
   "cell_type": "code",
   "execution_count": 25,
   "metadata": {},
   "outputs": [
    {
     "name": "stderr",
     "output_type": "stream",
     "text": [
      "/Users/joe/anaconda3/envs/learn-env/lib/python3.6/site-packages/scipy/stats/stats.py:1713: FutureWarning: Using a non-tuple sequence for multidimensional indexing is deprecated; use `arr[tuple(seq)]` instead of `arr[seq]`. In the future this will be interpreted as an array index, `arr[np.array(seq)]`, which will result either in an error or a different result.\n",
      "  return np.add.reduce(sorted[indexer] * weights, axis=axis) / sumval\n"
     ]
    },
    {
     "data": {
      "image/png": "[encoded data removed]",
      "text/plain": [
       "<Figure size 432x288 with 1 Axes>"
      ]
     },
     "metadata": {
      "needs_background": "light"
     },
     "output_type": "display_data"
    }
   ],
   "source": [
    "# Female Height\n",
    "show_distplot(female_heroes_df, 'Female', 'Height')"
   ]
  },
  {
   "cell_type": "code",
   "execution_count": 26,
   "metadata": {},
   "outputs": [
    {
     "name": "stderr",
     "output_type": "stream",
     "text": [
      "/Users/joe/anaconda3/envs/learn-env/lib/python3.6/site-packages/scipy/stats/stats.py:1713: FutureWarning: Using a non-tuple sequence for multidimensional indexing is deprecated; use `arr[tuple(seq)]` instead of `arr[seq]`. In the future this will be interpreted as an array index, `arr[np.array(seq)]`, which will result either in an error or a different result.\n",
      "  return np.add.reduce(sorted[indexer] * weights, axis=axis) / sumval\n"
     ]
    },
    {
     "data": {
      "image/png": "[encoded data removed]",
      "text/plain": [
       "<Figure size 432x288 with 1 Axes>"
      ]
     },
     "metadata": {
      "needs_background": "light"
     },
     "output_type": "display_data"
    }
   ],
   "source": [
    "# Female Weight\n",
    "show_distplot(female_heroes_df, 'Female', 'Weight')"
   ]
  },
  {
   "cell_type": "markdown",
   "metadata": {},
   "source": [
    "Discuss your findings from the plots above, with respect to the distibution of height and weight by gender.  Your explanation should include discussion of any relevant summary statistics, including mean, median, mode, and the overall shape of each distribution.  \n",
    "\n",
    "Wite your answer below this line:\n",
    "____________________________________________________________________________________________________________________________\n",
    "Females have a much smaller variance in both heights and weights\n",
    "Females weight mean is skewed right\n",
    "Female height is much closer to a normal distribution\n",
    "\n",
    "Male weights are heavily skewed right\n",
    "Male heights are not normally distributed (two peaks)\n"
   ]
  },
  {
   "cell_type": "markdown",
   "metadata": {},
   "source": [
    "### Sample Question: Most Common Powers\n",
    "\n",
    "The rest of this notebook will be left to you to investigate the dataset by formulating your own questions, and then seeking answers using pandas and numpy.  Every answer should include some sort of visualization, when appropriate. Before moving on to formulating your own questions, use the dataset to answer the following questions about superhero powers:\n",
    "\n",
    "* What are the 5 most common powers overall?\n",
    "* What are the 5 most common powers in the Marvel Universe?\n",
    "* What are the 5 most common powers in the DC Universe?"
   ]
  },
  {
   "cell_type": "code",
   "execution_count": 54,
   "metadata": {},
   "outputs": [
    {
     "data": {
      "text/plain": [
       "<bound method Series.idxmax of Agility                  242\n",
       "Accelerated Healing      178\n",
       "Lantern Power Ring        11\n",
       "Dimensional Awareness     25\n",
       "Cold Resistance           47\n",
       "Durability               257\n",
       "Stealth                  126\n",
       "Energy Absorption         77\n",
       "Flight                   212\n",
       "Danger Sense              30\n",
       "Underwater breathing      21\n",
       "Marksmanship             119\n",
       "Weapons Master           105\n",
       "Power Augmentation         8\n",
       "Animal Attributes         25\n",
       "Longevity                113\n",
       "Intelligence             158\n",
       "Super Strength           360\n",
       "Cryokinesis               19\n",
       "Telepathy                 92\n",
       "Energy Armor               8\n",
       "Energy Blasts            147\n",
       "Duplication               16\n",
       "Size Changing             55\n",
       "Density Control           15\n",
       "Stamina                  289\n",
       "Astral Travel              4\n",
       "Audio Control              7\n",
       "Dexterity                  6\n",
       "Omnitrix                   1\n",
       "                        ... \n",
       "Intuitive aptitude         1\n",
       "Vision - Microscopic      19\n",
       "Melting                    2\n",
       "Wind Control               3\n",
       "Super Breath              23\n",
       "Wallcrawling              34\n",
       "Vision - Night            34\n",
       "Vision - Infrared         22\n",
       "Grim Reaping               3\n",
       "Matter Absorption         11\n",
       "The Force                  6\n",
       "Resurrection              15\n",
       "Terrakinesis               2\n",
       "Vision - Heat             19\n",
       "Vitakinesis                2\n",
       "Radar Sense                6\n",
       "Qwardian Power Ring        2\n",
       "Weather Control            8\n",
       "Vision - X-Ray            23\n",
       "Vision - Thermal          23\n",
       "Web Creation              14\n",
       "Reality Warping           16\n",
       "Odin Force                 2\n",
       "Symbiote Costume           9\n",
       "Speed Force                1\n",
       "Phoenix Force              1\n",
       "Molecular Dissipation      1\n",
       "Vision - Cryo              2\n",
       "Omnipresent                2\n",
       "Omniscient                 2\n",
       "Length: 167, dtype: int64>"
      ]
     },
     "execution_count": 54,
     "metadata": {},
     "output_type": "execute_result"
    }
   ],
   "source": [
    "powers_df.head()\n",
    "powers_df.iloc[:,1:].astype(bool).sum(axis=0).idxmax"
   ]
  },
  {
   "cell_type": "code",
   "execution_count": 79,
   "metadata": {},
   "outputs": [
    {
     "data": {
      "image/png": "[encoded data removed]",
      "text/plain": [
       "<Figure size 432x288 with 1 Axes>"
      ]
     },
     "metadata": {
      "needs_background": "light"
     },
     "output_type": "display_data"
    }
   ],
   "source": [
    "marvel_df = joined_df.loc[joined_df.Publisher == 'Marvel Comics']\n",
    "marvel_df.head()\n",
    "marvel_five_val = list(marvel_df.iloc[:,11:].astype(bool).sum(axis=0).sort_values(ascending=False)[:5])\n",
    "marvel_five_id = marvel_df.iloc[:,11:].astype(bool).sum(axis=0).sort_values(ascending=False).index.get_values()[:5]\n",
    "fig = plt.figure()\n",
    "ax = fig.add_subplot(111)\n",
    "ax.barh(marvel_five_id, marvel_five_val)\n",
    "plt.show()\n"
   ]
  },
  {
   "cell_type": "code",
   "execution_count": 80,
   "metadata": {},
   "outputs": [
    {
     "data": {
      "image/png": "[encoded data removed]",
      "text/plain": [
       "<Figure size 432x288 with 1 Axes>"
      ]
     },
     "metadata": {
      "needs_background": "light"
     },
     "output_type": "display_data"
    }
   ],
   "source": [
    "marvel_df = joined_df.loc[joined_df.Publisher == 'DC Comics']\n",
    "dc_five_val = list(marvel_df.iloc[:,11:].astype(bool).sum(axis=0).sort_values(ascending=False)[:5])\n",
    "dc_five_id = marvel_df.iloc[:,11:].astype(bool).sum(axis=0).sort_values(ascending=False).index.get_values()[:5]\n",
    "fig = plt.figure()\n",
    "ax = fig.add_subplot(111)\n",
    "ax.barh(dc_five_id, dc_five_val)\n",
    "plt.show()"
   ]
  },
  {
   "cell_type": "code",
   "execution_count": null,
   "metadata": {},
   "outputs": [],
   "source": []
  },
  {
   "cell_type": "markdown",
   "metadata": {},
   "source": [
    "Analyze the results you found above to answer the following question:\n",
    "\n",
    "How do the top 5 powers in the Marvel and DC universes compare?  Are they similar, or are there significant differences? How do they compare to the overall trends in the entire Superheroes dataset?\n",
    "\n",
    "Wite your answer below this line:\n",
    "____________________________________________________________________________________________________________________________\n",
    "\n",
    "DC and Marvel were very similar with a couple of slight differences. The top 2 traits were exactly the same and the top five were the same but with small differences in order.\n",
    "\n",
    "### Your Own Investigation\n",
    "\n",
    "For the remainder of this lab, you'll be focusing on coming up with and answering your own question, just like we did above.  Your question should not be overly simple, and should require both descriptive statistics and data visualization to answer.  In case you're unsure of what questions to ask, some sample questions have been provided below.\n",
    "\n",
    "Pick one of the following questions to investigate and answer, or come up with one of your own!\n",
    "\n",
    "* Which powers have the highest chance of co-occuring in a hero (e.g. super strength and flight), and does this differ by gender?\n",
    "* Is there a relationship between a hero's height and weight and their powerset?\n",
    "* What is the distribution of skin colors amongst alien heroes?\n",
    "\n",
    "Explain your question below this line:\n",
    "____________________________________________________________________________________________________________________________\n",
    "\n",
    "\n",
    "\n",
    "Some sample cells have been provided to give you room to work. If you need to create more cells, you can do this easily by:\n",
    "\n",
    "1. Highlighting a cell and then pressing `esc` to enter command mode.\n",
    "1. Pressing `b` to add a cell below the currently highlighted cell, or `a` to add one above it.  \n",
    "\n",
    "Be sure to include thoughtful, well-labeled visualizations to back up your analysis!"
   ]
  },
  {
   "cell_type": "code",
   "execution_count": 81,
   "metadata": {},
   "outputs": [
    {
     "data": {
      "text/html": [
       "<div>\n",
       "<style scoped>\n",
       "    .dataframe tbody tr th:only-of-type {\n",
       "        vertical-align: middle;\n",
       "    }\n",
       "\n",
       "    .dataframe tbody tr th {\n",
       "        vertical-align: top;\n",
       "    }\n",
       "\n",
       "    .dataframe thead th {\n",
       "        text-align: right;\n",
       "    }\n",
       "</style>\n",
       "<table border=\"1\" class=\"dataframe\">\n",
       "  <thead>\n",
       "    <tr style=\"text-align: right;\">\n",
       "      <th></th>\n",
       "      <th>name</th>\n",
       "      <th>Gender</th>\n",
       "      <th>Eye color</th>\n",
       "      <th>Race</th>\n",
       "      <th>Hair color</th>\n",
       "      <th>Height</th>\n",
       "      <th>Publisher</th>\n",
       "      <th>Skin color</th>\n",
       "      <th>Alignment</th>\n",
       "      <th>Weight</th>\n",
       "      <th>...</th>\n",
       "      <th>Web Creation</th>\n",
       "      <th>Reality Warping</th>\n",
       "      <th>Odin Force</th>\n",
       "      <th>Symbiote Costume</th>\n",
       "      <th>Speed Force</th>\n",
       "      <th>Phoenix Force</th>\n",
       "      <th>Molecular Dissipation</th>\n",
       "      <th>Vision - Cryo</th>\n",
       "      <th>Omnipresent</th>\n",
       "      <th>Omniscient</th>\n",
       "    </tr>\n",
       "  </thead>\n",
       "  <tbody>\n",
       "    <tr>\n",
       "      <th>0</th>\n",
       "      <td>A-Bomb</td>\n",
       "      <td>Male</td>\n",
       "      <td>yellow</td>\n",
       "      <td>Human</td>\n",
       "      <td>No Hair</td>\n",
       "      <td>203.0</td>\n",
       "      <td>Marvel Comics</td>\n",
       "      <td>-</td>\n",
       "      <td>good</td>\n",
       "      <td>441.0</td>\n",
       "      <td>...</td>\n",
       "      <td>False</td>\n",
       "      <td>False</td>\n",
       "      <td>False</td>\n",
       "      <td>False</td>\n",
       "      <td>False</td>\n",
       "      <td>False</td>\n",
       "      <td>False</td>\n",
       "      <td>False</td>\n",
       "      <td>False</td>\n",
       "      <td>False</td>\n",
       "    </tr>\n",
       "    <tr>\n",
       "      <th>1</th>\n",
       "      <td>Abe Sapien</td>\n",
       "      <td>Male</td>\n",
       "      <td>blue</td>\n",
       "      <td>Icthyo Sapien</td>\n",
       "      <td>No Hair</td>\n",
       "      <td>191.0</td>\n",
       "      <td>Dark Horse Comics</td>\n",
       "      <td>blue</td>\n",
       "      <td>good</td>\n",
       "      <td>65.0</td>\n",
       "      <td>...</td>\n",
       "      <td>False</td>\n",
       "      <td>False</td>\n",
       "      <td>False</td>\n",
       "      <td>False</td>\n",
       "      <td>False</td>\n",
       "      <td>False</td>\n",
       "      <td>False</td>\n",
       "      <td>False</td>\n",
       "      <td>False</td>\n",
       "      <td>False</td>\n",
       "    </tr>\n",
       "  </tbody>\n",
       "</table>\n",
       "<p>2 rows × 178 columns</p>\n",
       "</div>"
      ],
      "text/plain": [
       "         name Gender Eye color           Race Hair color  Height  \\\n",
       "0      A-Bomb   Male    yellow          Human    No Hair   203.0   \n",
       "1  Abe Sapien   Male      blue  Icthyo Sapien    No Hair   191.0   \n",
       "\n",
       "           Publisher Skin color Alignment  Weight    ...     Web Creation  \\\n",
       "0      Marvel Comics          -      good   441.0    ...            False   \n",
       "1  Dark Horse Comics       blue      good    65.0    ...            False   \n",
       "\n",
       "  Reality Warping Odin Force Symbiote Costume Speed Force Phoenix Force  \\\n",
       "0           False      False            False       False         False   \n",
       "1           False      False            False       False         False   \n",
       "\n",
       "  Molecular Dissipation Vision - Cryo Omnipresent Omniscient  \n",
       "0                 False         False       False      False  \n",
       "1                 False         False       False      False  \n",
       "\n",
       "[2 rows x 178 columns]"
      ]
     },
     "execution_count": 81,
     "metadata": {},
     "output_type": "execute_result"
    }
   ],
   "source": [
    "joined_df.head(2)"
   ]
  },
  {
   "cell_type": "code",
   "execution_count": 93,
   "metadata": {},
   "outputs": [
    {
     "data": {
      "image/png": "[encoded data removed]",
      "text/plain": [
       "<Figure size 432x288 with 1 Axes>"
      ]
     },
     "metadata": {
      "needs_background": "light"
     },
     "output_type": "display_data"
    },
    {
     "data": {
      "image/png": "[encoded data removed]",
      "text/plain": [
       "<Figure size 432x288 with 1 Axes>"
      ]
     },
     "metadata": {
      "needs_background": "light"
     },
     "output_type": "display_data"
    }
   ],
   "source": [
    "good_df = joined_df.loc[joined_df.Alignment == 'good']\n",
    "good_val = list(good_df.iloc[:,11:].astype(bool).sum(axis=0).sort_values(ascending=False)[:5])\n",
    "good_id = good_df.iloc[:,11:].astype(bool).sum(axis=0).sort_values(ascending=False).index.get_values()[:5]\n",
    "\n",
    "bad_df = joined_df.loc[joined_df.Alignment == 'bad']\n",
    "bad_val = list(bad_df.iloc[:,11:].astype(bool).sum(axis=0).sort_values(ascending=False)[:5])\n",
    "bad_id = bad_df.iloc[:,11:].astype(bool).sum(axis=0).sort_values(ascending=False).index.get_values()[:5]\n",
    "\n",
    "fig1 = plt.figure()\n",
    "fig2 = plt.figure()\n",
    "ax1 = fig1.add_subplot(111)\n",
    "ax2 = fig2.add_subplot(111)\n",
    "ax1.bar(good_id, good_val)\n",
    "ax2.bar(bad_id, bad_val)\n",
    "plt.show()"
   ]
  },
  {
   "cell_type": "code",
   "execution_count": null,
   "metadata": {},
   "outputs": [],
   "source": []
  },
  {
   "cell_type": "code",
   "execution_count": null,
   "metadata": {},
   "outputs": [],
   "source": []
  },
  {
   "cell_type": "code",
   "execution_count": null,
   "metadata": {},
   "outputs": [],
   "source": []
  },
  {
   "cell_type": "code",
   "execution_count": null,
   "metadata": {},
   "outputs": [],
   "source": []
  },
  {
   "cell_type": "markdown",
   "metadata": {},
   "source": [
    "## Summary\n",
    "\n",
    "In this lab, we demonstrated our mastery of:\n",
    "* Using all of our Pandas knowledge to date to clean the dataset and deal with null values\n",
    "* Using Queries and aggregations to group the data into interesting subsets as needed\n",
    "* Using descriptive statistics and data visualization to find answers to questions we may have about the data"
   ]
  }
 ],
 "metadata": {
  "kernelspec": {
   "display_name": "Python 3",
   "language": "python",
   "name": "python3"
  },
  "language_info": {
   "codemirror_mode": {
    "name": "ipython",
    "version": 3
   },
   "file_extension": ".py",
   "mimetype": "text/x-python",
   "name": "python",
   "nbconvert_exporter": "python",
   "pygments_lexer": "ipython3",
   "version": "3.6.6"
  }
 },
 "nbformat": 4,
 "nbformat_minor": 2
}
